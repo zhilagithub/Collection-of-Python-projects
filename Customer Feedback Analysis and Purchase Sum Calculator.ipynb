{
 "cells": [
  {
   "cell_type": "code",
   "execution_count": 31,
   "id": "4e057238",
   "metadata": {},
   "outputs": [
    {
     "name": "stdout",
     "output_type": "stream",
     "text": [
      "Number of negative feedback: 5\n",
      "Number of neutral feedback: 3\n",
      "Number of positive feedback: 2\n"
     ]
    }
   ],
   "source": [
    "### In your work as an analyst, you have received customer feedback for a newly launched product. The feedback is a numerical grade on a scale of 1-10, with 10 being the best. Understanding the number of customers who responded negatively, neutrally, or positively will help determine how to improve the product.\n",
    "# Negative (1-5)\n",
    "# nautral  (6-8)\n",
    "# positive (9-10)  \n",
    "\n",
    "\n",
    "\n",
    "def number_of_feedback(scores):\n",
    "    negative_count = 0\n",
    "    neutral_count = 0\n",
    "    positive_count = 0\n",
    "\n",
    "    for score in scores:\n",
    "        if score >= 1 and score <= 5:\n",
    "            negative_count += 1\n",
    "        elif score >= 6 and score <= 8:\n",
    "            neutral_count += 1\n",
    "        elif score >= 9 and score <= 10:\n",
    "            positive_count += 1\n",
    "\n",
    "    print(\"Number of negative feedback:\", negative_count)\n",
    "    print(\"Number of neutral feedback:\", neutral_count)\n",
    "    print(\"Number of positive feedback:\", positive_count)\n",
    "\n",
    "\n",
    "scores = [1, 2, 3, 4, 5, 6, 7, 8, 9, 10]\n",
    "\n",
    "number_of_feedback(scores)\n",
    "\n"
   ]
  },
  {
   "cell_type": "code",
   "execution_count": null,
   "id": "7c510521",
   "metadata": {},
   "outputs": [],
   "source": []
  },
  {
   "cell_type": "code",
   "execution_count": 12,
   "id": "09cb253b",
   "metadata": {},
   "outputs": [
    {
     "name": "stdout",
     "output_type": "stream",
     "text": [
      "Number of fake IDs: 5\n",
      "Percentage of fake IDs: 50.00%\n"
     ]
    }
   ],
   "source": [
    "def id_valid(accept_id, all_id):\n",
    "    num_fake_id = 0\n",
    "    num_all_id = len(all_id)\n",
    "    \n",
    "    for id in all_id:\n",
    "        if id not in accept_id:\n",
    "            num_fake_id += 1\n",
    "            \n",
    "    percent = (num_fake_id / num_all_id) * 100\n",
    "    \n",
    "    result1 = f\"Number of fake IDs: {num_fake_id}\"\n",
    "    result2 = f\"Percentage of fake IDs: {percent:.2f}%\"\n",
    "    \n",
    "    return result1, result2\n",
    "\n",
    "accepted_ids = [1, 3, 5, 7, 9]\n",
    "all_ids = [1, 2, 3, 4, 5, 6, 7, 8, 9, 10]\n",
    "\n",
    "result1, result2 = id_valid(accepted_ids, all_ids)\n",
    "\n",
    "print(result1)\n",
    "print(result2)\n"
   ]
  },
  {
   "cell_type": "code",
   "execution_count": 14,
   "id": "79669cee",
   "metadata": {},
   "outputs": [],
   "source": [
    "####You've been asked to calculate the total value of all purchases made by each customer to understand how many customers have spent $100+.\n",
    "#Write a function called purchases_100 that accepts the following argument:\n",
    "#sales - a list of lists where each inner list contains the prices of items purchased by a unique customer.\n",
    "#The function must return the number of customers whose purchases summed to $100 or more.###\n",
    "\n",
    "\n",
    "\n",
    "def purchases_100(sales):\n",
    "    count = 0  # Initialize the count of customers\n",
    "    for sale in sales:\n",
    "        if sum(sale) >= 100:\n",
    "            count += 1\n",
    "    return count\n",
    "\n",
    "\n"
   ]
  },
  {
   "cell_type": "code",
   "execution_count": 15,
   "id": "d91e738a",
   "metadata": {},
   "outputs": [
    {
     "name": "stdout",
     "output_type": "stream",
     "text": [
      "Number of customers spending $100 or more: 2\n"
     ]
    }
   ],
   "source": [
    "sales_data = [\n",
    "    [30, 40, 35],   # Total: $105 (counted)\n",
    "    [20, 30, 25],   # Total: $75 (not counted)\n",
    "    [40, 20, 50],   # Total: $110 (counted)\n",
    "    [15, 30, 25],   # Total: $70 (not counted)\n",
    "]\n",
    "\n",
    "result = purchases_100(sales_data)\n",
    "print(\"Number of customers spending $100 or more:\", result)  # Output: 2\n"
   ]
  },
  {
   "cell_type": "code",
   "execution_count": null,
   "id": "196219aa",
   "metadata": {},
   "outputs": [],
   "source": []
  },
  {
   "cell_type": "code",
   "execution_count": null,
   "id": "5e4665ce",
   "metadata": {},
   "outputs": [],
   "source": []
  }
 ],
 "metadata": {
  "kernelspec": {
   "display_name": "Python 3 (ipykernel)",
   "language": "python",
   "name": "python3"
  },
  "language_info": {
   "codemirror_mode": {
    "name": "ipython",
    "version": 3
   },
   "file_extension": ".py",
   "mimetype": "text/x-python",
   "name": "python",
   "nbconvert_exporter": "python",
   "pygments_lexer": "ipython3",
   "version": "3.10.9"
  }
 },
 "nbformat": 4,
 "nbformat_minor": 5
}
