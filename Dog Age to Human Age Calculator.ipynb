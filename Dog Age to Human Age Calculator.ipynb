{
 "cells": [
  {
   "cell_type": "code",
   "execution_count": null,
   "id": "c1ec1e6e",
   "metadata": {},
   "outputs": [],
   "source": [
    "“How Old is Your Dog in Human Years?” Calculator\n",
    "\n",
    "In this assignment, you will write a program that calculates a dog’s age in human years.\n",
    "The program will prompt the user for an age in dog years and calculate that age in human years.\n",
    "Allow for int or float values, but check the user’s input to make sure it's valid -- it should be numeric and positive.\n",
    "Otherwise, let the user know their input is not valid.\n",
    "\n",
    "You can use the following rules to approximately convert a medium-sized dog’s age to human years:\n",
    "- For the first year, one dog year is equal to 15 human years\n",
    "- For the first 2 years, each dog year is equal to 12 human years\n",
    "- For the first 3 years, each dog year is equal to 9.3 human years\n",
    "- For the first 4 years, each dog year is equal to 8 human years\n",
    "- For the first 5 years, each dog year is equal to 7.2 human years\n",
    "- After that, each dog year is equal to 7 human years.  (Note: This means the first 5 dog years are\n",
    "equal to 36 human years (5 * 7.2) and the remaining dog years are equal to 7 human years each.)\n",
    "\n",
    "Print the result in the following format, substituting for **dog_age** and **human_age**: \"The given dog age **dog_age**\n",
    "is **human_age** in human years.\"  Round the result to 2 decimal places.  Note: If there is a 0 in the hundredths place,\n",
    "you can drop it, e.g. 24.00 can be displayed as 24.0.\n"
   ]
  },
  {
   "cell_type": "code",
   "execution_count": 1,
   "id": "b4d6e70e",
   "metadata": {},
   "outputs": [
    {
     "name": "stdout",
     "output_type": "stream",
     "text": [
      "Enter the dog's age in dog years: 5\n",
      "The given dog age 5.0 is 51.5 in human years.\n"
     ]
    }
   ],
   "source": [
    "def calculate_human_age(dog_age):\n",
    "    if dog_age <= 0:\n",
    "        return None  # Invalid input\n",
    "\n",
    "    if dog_age == 1:\n",
    "        human_age = 15\n",
    "    elif dog_age == 2:\n",
    "        human_age = 15 + 12\n",
    "    elif dog_age == 3:\n",
    "        human_age = 15 + 12 + 9.3\n",
    "    elif dog_age == 4:\n",
    "        human_age = 15 + 12 + 9.3 + 8\n",
    "    elif dog_age == 5:\n",
    "        human_age = 15 + 12 + 9.3 + 8 + 7.2\n",
    "    else:\n",
    "        human_age = 15 + 12 + 9.3 + 8 + 7.2 + (dog_age - 5) * 7\n",
    "\n",
    "    return human_age\n",
    "\n",
    "def main():\n",
    "    while True:\n",
    "        try:\n",
    "            dog_age = float(input(\"Enter the dog's age in dog years: \"))\n",
    "            if dog_age > 0:\n",
    "                human_age = calculate_human_age(dog_age)\n",
    "                if human_age is not None:\n",
    "                    print(f\"The given dog age {dog_age} is {human_age:.1f} in human years.\")\n",
    "                else:\n",
    "                    print(\"Invalid input. Please enter a positive numeric value.\")\n",
    "                break\n",
    "            else:\n",
    "                print(\"Invalid input. Please enter a positive numeric value.\")\n",
    "        except ValueError:\n",
    "            print(\"Invalid input. Please enter a positive numeric value.\")\n",
    "\n",
    "if __name__ == \"__main__\":\n",
    "    main()\n"
   ]
  },
  {
   "cell_type": "code",
   "execution_count": null,
   "id": "233226c7",
   "metadata": {},
   "outputs": [],
   "source": []
  }
 ],
 "metadata": {
  "kernelspec": {
   "display_name": "Python 3 (ipykernel)",
   "language": "python",
   "name": "python3"
  },
  "language_info": {
   "codemirror_mode": {
    "name": "ipython",
    "version": 3
   },
   "file_extension": ".py",
   "mimetype": "text/x-python",
   "name": "python",
   "nbconvert_exporter": "python",
   "pygments_lexer": "ipython3",
   "version": "3.10.9"
  }
 },
 "nbformat": 4,
 "nbformat_minor": 5
}
